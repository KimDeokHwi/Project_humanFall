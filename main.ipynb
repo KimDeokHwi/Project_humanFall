{
 "cells": [
  {
   "cell_type": "code",
   "execution_count": 1,
   "metadata": {},
   "outputs": [],
   "source": [
    "import os\n",
    "import json\n",
    "import torch\n",
    "import cv2\n",
    "import matplotlib.pyplot as plt\n",
    "import glob\n",
    "import numpy as np\n",
    "import shutil\n",
    "import torchvision\n",
    "#import mediapipe as mp\n",
    "import ultralytics\n",
    "import yaml\n",
    "from tqdm import tqdm\n",
    "from PIL import Image\n",
    "from ultralytics import YOLO\n",
    "from ultralytics.utils.plotting import Annotator\n"
   ]
  },
  {
   "cell_type": "code",
   "execution_count": 2,
   "metadata": {},
   "outputs": [
    {
     "name": "stdout",
     "output_type": "stream",
     "text": [
      "cuda\n"
     ]
    }
   ],
   "source": [
    "device = torch.device(\"cuda\" if torch.cuda.is_available() else \"cpu\")\n",
    "print(device)"
   ]
  },
  {
   "cell_type": "code",
   "execution_count": 5,
   "metadata": {},
   "outputs": [],
   "source": [
    "data_root = \"D:\\\\project\\\\data\\\\src\\\\humal_fall\"\n",
    "train_file_path = glob.glob(f\"{data_root}\\\\train\\\\images\")\n",
    "train_label_root = f'{data_root}\\\\train\\\\labels'\n"
   ]
  },
  {
   "cell_type": "code",
   "execution_count": 6,
   "metadata": {},
   "outputs": [
    {
     "ename": "TypeError",
     "evalue": "listdir: path should be string, bytes, os.PathLike or None, not list",
     "output_type": "error",
     "traceback": [
      "\u001b[1;31m---------------------------------------------------------------------------\u001b[0m",
      "\u001b[1;31mTypeError\u001b[0m                                 Traceback (most recent call last)",
      "Cell \u001b[1;32mIn[6], line 52\u001b[0m\n\u001b[0;32m     49\u001b[0m input_dir \u001b[38;5;241m=\u001b[39m train_file_path  \n\u001b[0;32m     50\u001b[0m output_dir \u001b[38;5;241m=\u001b[39m data_root  \n\u001b[1;32m---> 52\u001b[0m \u001b[43mjson_files_out\u001b[49m\u001b[43m(\u001b[49m\u001b[43minput_dir\u001b[49m\u001b[43m,\u001b[49m\u001b[43m \u001b[49m\u001b[43moutput_dir\u001b[49m\u001b[43m)\u001b[49m\n",
      "Cell \u001b[1;32mIn[6], line 29\u001b[0m, in \u001b[0;36mjson_files_out\u001b[1;34m(input_dir, output_dir)\u001b[0m\n\u001b[0;32m     26\u001b[0m \u001b[38;5;28;01mif\u001b[39;00m \u001b[38;5;129;01mnot\u001b[39;00m os\u001b[38;5;241m.\u001b[39mpath\u001b[38;5;241m.\u001b[39mexists(output_dir):\n\u001b[0;32m     27\u001b[0m     os\u001b[38;5;241m.\u001b[39mmakedirs(output_dir)\n\u001b[1;32m---> 29\u001b[0m \u001b[38;5;28;01mfor\u001b[39;00m filename \u001b[38;5;129;01min\u001b[39;00m \u001b[43mos\u001b[49m\u001b[38;5;241;43m.\u001b[39;49m\u001b[43mlistdir\u001b[49m\u001b[43m(\u001b[49m\u001b[43minput_dir\u001b[49m\u001b[43m)\u001b[49m:\n\u001b[0;32m     30\u001b[0m     \u001b[38;5;28;01mif\u001b[39;00m filename\u001b[38;5;241m.\u001b[39mendswith(\u001b[38;5;124m'\u001b[39m\u001b[38;5;124m.json\u001b[39m\u001b[38;5;124m'\u001b[39m):\n\u001b[0;32m     31\u001b[0m         json_path \u001b[38;5;241m=\u001b[39m os\u001b[38;5;241m.\u001b[39mpath\u001b[38;5;241m.\u001b[39mjoin(input_dir, filename)\n",
      "\u001b[1;31mTypeError\u001b[0m: listdir: path should be string, bytes, os.PathLike or None, not list"
     ]
    }
   ],
   "source": [
    "# json 파일에 있는 bbox 정보를 yolo 형식으로\n",
    "# class_name x_center y_center w h\n",
    "\n",
    "def cvt_bbox_yolo(img_w, img_h, bbox):\n",
    "    x, y, w, h = map(float, bbox.split(', '))\n",
    "    \n",
    "    x_center = (x + w/2) / img_w\n",
    "    y_center = (y + h/2) / img_h\n",
    "    \n",
    "    width = w / img_w\n",
    "    height = h / img_h\n",
    "    \n",
    "    return x_center, y_center, width, height\n",
    "\n",
    "def cvt_json_yolo(json_data):\n",
    "    img_w, img_h = map(int, json_data['metadata']['scene_res'].split(' x '))\n",
    "    bbox = json_data['bboxdata']['bbox_location']\n",
    "    x_center, y_center, width, height = cvt_bbox_yolo(img_w, img_h, bbox)  \n",
    "    # class_id : 나중에 훈련 끝나고 정의\n",
    "    class_id = ['1']   \n",
    "    yolo_format = f\"{class_id} {x_center:.6f} {y_center:.6f} {width:.6f} {height:.6f}\"    \n",
    "    return yolo_format\n",
    "\n",
    "def json_files_out(input_dir, output_dir):\n",
    "    output_dir = f'{train_label_root}'\n",
    "    if not os.path.exists(output_dir):\n",
    "        os.makedirs(output_dir)\n",
    "\n",
    "    for filename in os.listdir(input_dir):\n",
    "        if filename.endswith('.json'):\n",
    "            json_path = os.path.join(input_dir, filename)\n",
    "            \n",
    "            # json read\n",
    "            with open(json_path, 'r', encoding = 'utf-8') as f:\n",
    "                json_data = json.load(f)\n",
    "            \n",
    "            # YOLO 형식으로 convert\n",
    "            yolo_format = cvt_json_yolo(json_data)\n",
    "            \n",
    "            # 파일로 저장\n",
    "            output_filename = json_data['metadata']['file_name'].replace('.JPG', '.txt')\n",
    "            output_path = os.path.join(output_dir, output_filename)\n",
    "            \n",
    "            with open(output_path, 'w') as f:\n",
    "                f.write(yolo_format)\n",
    "            \n",
    "            print('완료')\n",
    "\n",
    "input_dir = train_file_path  \n",
    "output_dir = data_root  \n",
    "\n",
    "json_files_out(input_dir, output_dir)"
   ]
  },
  {
   "cell_type": "code",
   "execution_count": null,
   "metadata": {},
   "outputs": [],
   "source": []
  }
 ],
 "metadata": {
  "kernelspec": {
   "display_name": "Python 3",
   "language": "python",
   "name": "python3"
  },
  "language_info": {
   "codemirror_mode": {
    "name": "ipython",
    "version": 3
   },
   "file_extension": ".py",
   "mimetype": "text/x-python",
   "name": "python",
   "nbconvert_exporter": "python",
   "pygments_lexer": "ipython3",
   "version": "3.10.6"
  }
 },
 "nbformat": 4,
 "nbformat_minor": 2
}
