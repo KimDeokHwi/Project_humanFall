{
 "cells": [
  {
   "cell_type": "code",
   "execution_count": 2,
   "metadata": {},
   "outputs": [],
   "source": [
    "import os\n",
    "import json\n",
    "import torch\n",
    "import cv2\n",
    "import matplotlib.pyplot as plt\n",
    "import glob\n",
    "import numpy as np\n",
    "import shutil\n",
    "import torchvision\n",
    "#import mediapipe as mp\n",
    "import ultralytics\n",
    "import yaml\n",
    "from tqdm import tqdm\n",
    "from PIL import Image\n",
    "from ultralytics import YOLO\n",
    "from ultralytics.utils.plotting import Annotator\n"
   ]
  },
  {
   "cell_type": "code",
   "execution_count": 3,
   "metadata": {},
   "outputs": [
    {
     "name": "stdout",
     "output_type": "stream",
     "text": [
      "cuda\n"
     ]
    }
   ],
   "source": [
    "device = torch.device(\"cuda\" if torch.cuda.is_available() else \"cpu\")\n",
    "print(device)"
   ]
  },
  {
   "cell_type": "code",
   "execution_count": 1,
   "metadata": {},
   "outputs": [],
   "source": [
    "data_root = \"D:\\\\project\"\n",
    "file_root = \"D:\\\\project\\\\data\"\n",
    "train_root = f'{file_root}\\\\train'\n",
    "valid_root = f'{file_root}\\\\valid'\n",
    "test_root = f'{file_root}\\\\test'"
   ]
  },
  {
   "cell_type": "code",
   "execution_count": null,
   "metadata": {},
   "outputs": [],
   "source": [
    "# json 파일에 있는 bbox 정보를 yolo 형식으로\n",
    "# class_name x_center y_center w h\n",
    "\n",
    "def cvt_bbox_yolo(img_width, img_height, bbox):\n",
    "    x, y, w, h = map(float, bbox.split(', '))\n",
    "    \n",
    "    x_center = (x + w/2) / img_width\n",
    "    y_center = (y + h/2) / img_height\n",
    "    \n",
    "    width = w / img_width\n",
    "    height = h / img_height\n",
    "    \n",
    "    return x_center, y_center, width, height\n",
    "\n",
    "def cvt_json_yolo(json_data):\n",
    "    img_width, img_height = map(int, json_data['metadata']['scene_res'].split(' x '))\n",
    "    \n",
    "    bbox = json_data['bboxdata']['bbox_location']\n",
    "    \n",
    "    x_center, y_center, width, height = cvt_bbox_yolo(img_width, img_height, bbox)\n",
    "    \n",
    "    class_id = Pass\n",
    "    \n",
    "    yolo_format = f\"{class_id} {x_center:.6f} {y_center:.6f} {width:.6f} {height:.6f}\"\n",
    "    \n",
    "    return yolo_format\n",
    "\n",
    "def json_files_out(input_dir, output_dir):\n",
    "    if not os.path.exists(output_dir):\n",
    "        os.makedirs(output_dir)\n",
    "\n",
    "    # 모든 JSON 파일 처리\n",
    "    for filename in os.listdir(input_dir):\n",
    "        if filename.endswith('.json'):\n",
    "            json_path = os.path.join(input_dir, filename)\n",
    "            \n",
    "            # JSON 파일 읽기\n",
    "            with open(json_path, 'r') as f:\n",
    "                json_data = json.load(f)\n",
    "            \n",
    "            # YOLO 형식으로 convert\n",
    "            yolo_format = cvt_json_yolo(json_data)\n",
    "            \n",
    "            # 파일로 저장\n",
    "            output_filename = json_data['metadata']['file_name'].replace('.JPG', '.txt')\n",
    "            output_path = os.path.join(output_dir, output_filename)\n",
    "            \n",
    "            with open(output_path, 'w') as f:\n",
    "                f.write(yolo_format)\n",
    "            \n",
    "            print('완료')\n",
    "\n",
    "# 사용 예\n",
    "input_directory = 'path/to/json/files'  # JSON 파일이 있는 디렉토리\n",
    "output_directory = 'path/to/output/files'  # YOLO 형식 파일을 저장할 디렉토리\n",
    "\n",
    "json_files_out(input_directory, output_directory)"
   ]
  }
 ],
 "metadata": {
  "kernelspec": {
   "display_name": "Python 3",
   "language": "python",
   "name": "python3"
  },
  "language_info": {
   "codemirror_mode": {
    "name": "ipython",
    "version": 3
   },
   "file_extension": ".py",
   "mimetype": "text/x-python",
   "name": "python",
   "nbconvert_exporter": "python",
   "pygments_lexer": "ipython3",
   "version": "3.10.6"
  }
 },
 "nbformat": 4,
 "nbformat_minor": 2
}
