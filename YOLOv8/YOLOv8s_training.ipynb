{
 "cells": [
  {
   "cell_type": "code",
   "execution_count": 1,
   "metadata": {},
   "outputs": [],
   "source": [
    "import random\n",
    "import os\n",
    "import shutil\n",
    "import cv2\n",
    "import glob\n",
    "import torch\n",
    "import torchvision\n",
    "import numpy as np\n",
    "import json\n",
    "import yaml\n",
    "import time\n",
    "from tqdm import tqdm\n",
    "from PIL import Image\n",
    "from torchvision import datasets, models, transforms"
   ]
  },
  {
   "cell_type": "code",
   "execution_count": 2,
   "metadata": {},
   "outputs": [],
   "source": [
    "from ultralytics import YOLO"
   ]
  },
  {
   "cell_type": "code",
   "execution_count": 3,
   "metadata": {},
   "outputs": [
    {
     "name": "stdout",
     "output_type": "stream",
     "text": [
      "cuda\n"
     ]
    }
   ],
   "source": [
    "device = torch.device(\"cuda\" if torch.cuda.is_available() else \"cpu\")\n",
    "print(device)"
   ]
  },
  {
   "cell_type": "code",
   "execution_count": 6,
   "metadata": {},
   "outputs": [],
   "source": [
    "# data resize/padding\n",
    "data_root = 'D:\\\\human_fall\\\\dataset'\n",
    "train_root = f'{data_root}\\\\train\\\\images'\n",
    "val_root = f'{data_root}\\\\val\\\\images'\n",
    "test_root = f'{data_root}\\\\test\\\\images'\n",
    "# Create directories if not exist\n",
    "#os.makedirs(train_resize_images, exist_ok=True)\n",
    "#os.makedirs(valid_resize_images, exist_ok=True)\n",
    "\n",
    "# Helper function to resize and pad images\n",
    "def letterbox_image(image, target_size=(640, 640)):\n",
    "    # 원본 이미지 크기\n",
    "    h, w = image.shape[:2]\n",
    "    target_w, target_h = target_size\n",
    "\n",
    "    # 비율 계산\n",
    "    scale = min(target_w / w, target_h / h)\n",
    "\n",
    "    # 새로운 이미지 크기\n",
    "    new_w = int(w * scale)\n",
    "    new_h = int(h * scale)\n",
    "\n",
    "    # 이미지 리사이즈\n",
    "    resized_image = cv2.resize(image, (new_w, new_h), interpolation=cv2.INTER_LINEAR)\n",
    "\n",
    "    # 패딩 적용\n",
    "    pad_w = (target_w - new_w) // 2\n",
    "    pad_h = (target_h - new_h) // 2\n",
    "\n",
    "    # 이미지를 타겟 크기로 채워서 새로운 이미지를 만듦\n",
    "    padded_image = cv2.copyMakeBorder(resized_image, pad_h, target_h - new_h - pad_h, pad_w, target_w - new_w - pad_w,\n",
    "                                      cv2.BORDER_CONSTANT, value=[128, 128, 128])\n",
    "\n",
    "    return padded_image\n",
    "\n",
    "# Process Non-Fall Data\n",
    "for file in os.listdir(test_root):\n",
    "    file_path = os.path.join(test_root, file)\n",
    "    image = cv2.imread(file_path)\n",
    "    resized_image = letterbox_image(image)\n",
    "    output_path = os.path.join(test_root, file)\n",
    "    cv2.imwrite(output_path, resized_image)\n",
    "\n",
    "# Process Fall Data\n",
    "#for file in os.listdir(fall_image_path):\n",
    "    #file_path = os.path.join(fall_image_path, file)\n",
    "    #image = cv2.imread(file_path)\n",
    "    #resized_image = letterbox_image(image)\n",
    "    #output_path = os.path.join(output_fall_image_path, file)\n",
    "    #cv2.imwrite(output_path, resized_image)"
   ]
  },
  {
   "cell_type": "code",
   "execution_count": 10,
   "metadata": {},
   "outputs": [
    {
     "name": "stdout",
     "output_type": "stream",
     "text": [
      "Processing train dataset...\n",
      "Processed all JSON files in D:\\human_fall\\dataset\\train\\labels\n",
      "Processing val dataset...\n",
      "Processed all JSON files in D:\\human_fall\\dataset\\val\\labels\n",
      "Processing test dataset...\n",
      "Processed all JSON files in D:\\human_fall\\dataset\\test\\labels\n",
      "All datasets processed.\n"
     ]
    }
   ],
   "source": [
    "# json 파일에 있는 bbox 정보를 yolo 형식으로\n",
    "# class_name x_center y_center w h\n",
    "train_json = 'D:\\\\human_fall\\\\dataset\\\\train\\\\labels'\n",
    "val_json = 'D:\\\\human_fall\\\\dataset\\\\val\\\\labels'\n",
    "test_json = 'D:\\\\human_fall\\\\dataset\\\\test\\\\labels'\n",
    "\n",
    "def convert_bbox(bbox, img_width, img_height):\n",
    "    x1, y1, x2, y2 = map(float, bbox.split(','))\n",
    "    \n",
    "    width = (x2 - x1) / img_width\n",
    "    height = (y2 - y1) / img_height\n",
    "    center_x = (x1 + x2) / (2 * img_width)\n",
    "    center_y = (y1 + y2) / (2 * img_height)\n",
    "    \n",
    "    return center_x, center_y, width, height\n",
    "\n",
    "def determine_class(file_name):\n",
    "    file_name_lower = file_name.lower()\n",
    "    if 'by' in file_name_lower or 'sy' in file_name_lower or 'fy' in file_name_lower:\n",
    "        return 1\n",
    "    else:\n",
    "        return 0\n",
    "\n",
    "def process_json(json_path, output_dir, new_width=640, new_height=640):\n",
    "    with open(json_path, 'r', encoding='utf-8') as f:\n",
    "        data = json.load(f)\n",
    "    \n",
    "    orig_width, orig_height = map(int, data['metadata']['scene_res'].split('x'))\n",
    "    \n",
    "    scale = min(new_width / orig_width, new_height / orig_height)\n",
    "    \n",
    "    scaled_width = int(orig_width * scale)\n",
    "    scaled_height = int(orig_height * scale)\n",
    "    \n",
    "    pad_x = (new_width - scaled_width) // 2\n",
    "    pad_y = (new_height - scaled_height) // 2\n",
    "    \n",
    "    bbox = data['bboxdata']['bbox_location']\n",
    "    x, y, w, h = convert_bbox(bbox, orig_width, orig_height)\n",
    "    \n",
    "    x = (x * scaled_width + pad_x) / new_width\n",
    "    y = (y * scaled_height + pad_y) / new_height\n",
    "    w = (w * scaled_width) / new_width\n",
    "    h = (h * scaled_height) / new_height\n",
    "    \n",
    "    class_id = determine_class(data['metadata']['file_name'])\n",
    "    \n",
    "    result = f\"{class_id} {x:.6f} {y:.6f} {w:.6f} {h:.6f}\"\n",
    "    \n",
    "    output_filename = os.path.splitext(data['metadata']['file_name'])[0] + '.txt'\n",
    "    output_path = os.path.join(output_dir, output_filename)\n",
    "    \n",
    "    with open(output_path, 'w', encoding='utf-8') as f:\n",
    "        f.write(result)\n",
    "\n",
    "def process_all_json_in_folder(input_folder, output_folder):\n",
    "    if not os.path.exists(output_folder):\n",
    "        os.makedirs(output_folder)\n",
    "    \n",
    "    for filename in os.listdir(input_folder):\n",
    "        if filename.endswith('.json'):\n",
    "            json_path = os.path.join(input_folder, filename)\n",
    "            process_json(json_path, output_folder)\n",
    "    \n",
    "    print(f\"Processed all JSON files in {input_folder}\")\n",
    "\n",
    "# 각 데이터셋 처리\n",
    "datasets = [\n",
    "    ('train', train_json),\n",
    "    ('val', val_json),\n",
    "    ('test', test_json)\n",
    "]\n",
    "\n",
    "for dataset_name, json_folder in datasets:\n",
    "    output_folder = os.path.join(os.path.dirname(json_folder), 'labels_yolo')\n",
    "    print(f\"Processing {dataset_name} dataset...\")\n",
    "    process_all_json_in_folder(json_folder, output_folder)\n",
    "\n",
    "print(\"All datasets processed.\")"
   ]
  },
  {
   "cell_type": "code",
   "execution_count": null,
   "metadata": {},
   "outputs": [],
   "source": [
    "train_labels = f'{data_root}\\\\train\\\\labels'\n",
    "val_labels = f'{data_root}\\\\val\\\\labels'\n",
    "test_labels = f'{data_root}\\\\test\\\\labels'\n",
    "\n",
    "def update_labels(label_path, original_size, new_size, scale, pad_w, pad_h):\n",
    "    with open(label_path, 'r') as f:\n",
    "        lines = f.readlines()\n",
    "    \n",
    "    new_lines = []\n",
    "    for line in lines:\n",
    "        class_id, x, y, w, h = map(float, line.strip().split())\n",
    "        \n",
    "        # 원본 이미지에서의 픽셀 좌표로 변환\n",
    "        x_pixel = x * original_size[0]\n",
    "        y_pixel = y * original_size[1]\n",
    "        w_pixel = w * original_size[0]\n",
    "        h_pixel = h * original_size[1]\n",
    "        \n",
    "        # 새 이미지에서의 픽셀 좌표로 변환\n",
    "        new_x_pixel = x_pixel * scale + pad_w\n",
    "        new_y_pixel = y_pixel * scale + pad_h\n",
    "        new_w_pixel = w_pixel * scale\n",
    "        new_h_pixel = h_pixel * scale\n",
    "        \n",
    "        # 새 이미지에서의 상대 좌표로 변환\n",
    "        new_x = new_x_pixel / new_size[0]\n",
    "        new_y = new_y_pixel / new_size[1]\n",
    "        new_w = new_w_pixel / new_size[0]\n",
    "        new_h = new_h_pixel / new_size[1]\n",
    "        \n",
    "        new_lines.append(f\"{int(class_id)} {new_x:.6f} {new_y:.6f} {new_w:.6f} {new_h:.6f}\\n\")\n",
    "    \n",
    "    with open(label_path, 'w') as f:\n",
    "        f.writelines(new_lines)\n",
    "\n",
    "# 원본 이미지 크기와 새 이미지 크기\n",
    "original_size = (3840, 2160)\n",
    "new_size = (640, 640)\n",
    "\n",
    "# 스케일 계산\n",
    "scale = min(new_size[0] / original_size[0], new_size[1] / original_size[1])\n",
    "\n",
    "# 패딩 계산\n",
    "new_w = int(original_size[0] * scale)\n",
    "new_h = int(original_size[1] * scale)\n",
    "pad_w = (new_size[0] - new_w) // 2\n",
    "pad_h = (new_size[1] - new_h) // 2\n",
    "\n",
    "# 라벨 파일 업데이트\n",
    "for file in os.listdir(test_labels):\n",
    "    if file.endswith('.txt'):\n",
    "        label_path = os.path.join(test_labels, file)\n",
    "        update_labels(label_path, original_size, new_size, scale, pad_w, pad_h)"
   ]
  },
  {
   "cell_type": "code",
   "execution_count": 15,
   "metadata": {},
   "outputs": [],
   "source": [
    "train_root = f'{data_root}\\\\train\\\\images'\n",
    "train_label = f'{data_root}\\\\train\\\\labels'\n",
    "\n",
    "val_root = f'{data_root}\\\\val\\\\images'\n",
    "val_label = f'{data_root}\\\\val\\\\labels'\n",
    "\n",
    "test_root = f'{data_root}\\\\test\\\\images'\n",
    "test_label = f'{data_root}\\\\test\\\\labels'\n",
    "\n",
    "\n",
    "def clip_coordinates(coord):\n",
    "    return max(0, min(coord, 1))\n",
    "\n",
    "def normalize_coordinates(label_path, image_path):\n",
    "    # 이미지 크기 가져오기\n",
    "    with Image.open(image_path) as img:\n",
    "        img_width, img_height = img.size\n",
    "    \n",
    "    # 라벨 파일 읽기\n",
    "    with open(label_path, 'r') as f:\n",
    "        lines = f.readlines()\n",
    "    \n",
    "    normalized_lines = []\n",
    "    for line in lines:\n",
    "        parts = line.strip().split()\n",
    "        if len(parts) == 5:  # class x y width height 형식 확인\n",
    "            class_id = parts[0]\n",
    "            x = float(parts[1])\n",
    "            y = float(parts[2])\n",
    "            width = float(parts[3])\n",
    "            height = float(parts[4])\n",
    "            \n",
    "            # 좌표 정규화\n",
    "            x_normalized = x / img_width\n",
    "            y_normalized = y / img_height\n",
    "            width_normalized = width / img_width\n",
    "            height_normalized = height / img_height\n",
    "            \n",
    "            x_normalized = clip_coordinates(x_normalized)\n",
    "            y_normalized = clip_coordinates(y_normalized)\n",
    "            width_normalized = clip_coordinates(width_normalized)\n",
    "            height_normalized = clip_coordinates(height_normalized)\n",
    "            \n",
    "            \n",
    "            # 정규화된 좌표로 새 라인 생성\n",
    "            new_line = f\"{class_id} {x_normalized:.6f} {y_normalized:.6f} {width_normalized:.6f} {height_normalized:.6f}\\n\"\n",
    "            normalized_lines.append(new_line)\n",
    "    \n",
    "    # 정규화된 좌표로 파일 다시 쓰기\n",
    "    with open(label_path, 'w') as f:\n",
    "        f.writelines(normalized_lines)\n",
    "\n",
    "image_folder = val_root\n",
    "label_folder = val_label\n",
    "\n",
    "for filename in os.listdir(label_folder):\n",
    "    if filename.endswith('.txt'):\n",
    "        label_path = os.path.join(label_folder, filename)\n",
    "        image_path = os.path.join(image_folder, filename.replace('.txt', '.jpg'))\n",
    "        \n",
    "        if os.path.exists(image_path):\n",
    "            normalize_coordinates(label_path, image_path)\n",
    "        else:\n",
    "            print(f\"Image not found for label: {filename}\")"
   ]
  },
  {
   "cell_type": "code",
   "execution_count": 13,
   "metadata": {},
   "outputs": [],
   "source": [
    "# 사용되지 않는 캐시 메모리 삭제\n",
    "torch.cuda.empty_cache()"
   ]
  },
  {
   "cell_type": "code",
   "execution_count": 11,
   "metadata": {},
   "outputs": [
    {
     "name": "stdout",
     "output_type": "stream",
     "text": [
      "이 경로에 yaml파일 생성 : D:\\human_fall\\dataset\n"
     ]
    }
   ],
   "source": [
    "data_root = 'D:\\\\human_fall\\\\dataset'\n",
    "train_root = f'{data_root}\\\\train\\\\images'\n",
    "val_root = f'{data_root}\\\\val\\\\images'\n",
    "class_names = {0 : 'Non_Fall', 1 : 'Fall'}\n",
    "num_classes = len(class_names)\n",
    "\n",
    "yaml_info = {\n",
    "    'path' : data_root,\n",
    "    'names': class_names,\n",
    "    'nc': num_classes,\n",
    "    'train': train_root,\n",
    "    'val': val_root\n",
    "}\n",
    "\n",
    "with open('yaml_info_yolov8s.yaml', 'w') as f : \n",
    "    yaml.dump(yaml_info, f)\n",
    "print(f'이 경로에 yaml파일 생성 : {data_root}')"
   ]
  },
  {
   "cell_type": "code",
   "execution_count": 12,
   "metadata": {},
   "outputs": [
    {
     "name": "stdout",
     "output_type": "stream",
     "text": [
      "New https://pypi.org/project/ultralytics/8.3.17 available  Update with 'pip install -U ultralytics'\n",
      "\u001b[34m\u001b[1mengine\\trainer: \u001b[0mtask=detect, mode=train, model=yolov8s.pt, data=D:\\project\\prjvenv\\yaml_info_yolov8s.yaml, epochs=50, time=None, patience=30, batch=16, imgsz=640, save=True, save_period=-1, cache=False, device=cuda, workers=20, project=None, name=human_fall_s30, exist_ok=False, pretrained=True, optimizer=auto, verbose=True, seed=0, deterministic=True, single_cls=False, rect=False, cos_lr=False, close_mosaic=10, resume=False, amp=True, fraction=1.0, profile=False, freeze=None, multi_scale=False, overlap_mask=True, mask_ratio=4, dropout=0.0, val=True, split=val, save_json=False, save_hybrid=False, conf=None, iou=0.7, max_det=300, half=False, dnn=False, plots=True, source=None, vid_stride=1, stream_buffer=False, visualize=False, augment=False, agnostic_nms=False, classes=None, retina_masks=False, embed=None, show=False, save_frames=False, save_txt=False, save_conf=False, save_crop=False, show_labels=True, show_conf=True, show_boxes=True, line_width=None, format=torchscript, keras=False, optimize=False, int8=False, dynamic=False, simplify=True, opset=None, workspace=4, nms=False, lr0=0.01, lrf=0.01, momentum=0.937, weight_decay=0.0005, warmup_epochs=3.0, warmup_momentum=0.8, warmup_bias_lr=0.1, box=7.5, cls=0.5, dfl=1.5, pose=12.0, kobj=1.0, label_smoothing=0.0, nbs=64, hsv_h=0.015, hsv_s=0.7, hsv_v=0.4, degrees=0.0, translate=0.1, scale=0.5, shear=0.0, perspective=0.0, flipud=0.0, fliplr=0.5, bgr=0.0, mosaic=1.0, mixup=0.0, copy_paste=0.0, auto_augment=randaugment, erasing=0.4, crop_fraction=1.0, cfg=None, tracker=botsort.yaml, save_dir=runs\\detect\\human_fall_s30\n",
      "Overriding model.yaml nc=80 with nc=2\n",
      "\n",
      "                   from  n    params  module                                       arguments                     \n",
      "  0                  -1  1       928  ultralytics.nn.modules.conv.Conv             [3, 32, 3, 2]                 \n",
      "  1                  -1  1     18560  ultralytics.nn.modules.conv.Conv             [32, 64, 3, 2]                \n",
      "  2                  -1  1     29056  ultralytics.nn.modules.block.C2f             [64, 64, 1, True]             \n",
      "  3                  -1  1     73984  ultralytics.nn.modules.conv.Conv             [64, 128, 3, 2]               \n",
      "  4                  -1  2    197632  ultralytics.nn.modules.block.C2f             [128, 128, 2, True]           \n",
      "  5                  -1  1    295424  ultralytics.nn.modules.conv.Conv             [128, 256, 3, 2]              \n",
      "  6                  -1  2    788480  ultralytics.nn.modules.block.C2f             [256, 256, 2, True]           \n",
      "  7                  -1  1   1180672  ultralytics.nn.modules.conv.Conv             [256, 512, 3, 2]              \n",
      "  8                  -1  1   1838080  ultralytics.nn.modules.block.C2f             [512, 512, 1, True]           \n",
      "  9                  -1  1    656896  ultralytics.nn.modules.block.SPPF            [512, 512, 5]                 \n",
      " 10                  -1  1         0  torch.nn.modules.upsampling.Upsample         [None, 2, 'nearest']          \n",
      " 11             [-1, 6]  1         0  ultralytics.nn.modules.conv.Concat           [1]                           \n",
      " 12                  -1  1    591360  ultralytics.nn.modules.block.C2f             [768, 256, 1]                 \n",
      " 13                  -1  1         0  torch.nn.modules.upsampling.Upsample         [None, 2, 'nearest']          \n",
      " 14             [-1, 4]  1         0  ultralytics.nn.modules.conv.Concat           [1]                           \n",
      " 15                  -1  1    148224  ultralytics.nn.modules.block.C2f             [384, 128, 1]                 \n",
      " 16                  -1  1    147712  ultralytics.nn.modules.conv.Conv             [128, 128, 3, 2]              \n",
      " 17            [-1, 12]  1         0  ultralytics.nn.modules.conv.Concat           [1]                           \n",
      " 18                  -1  1    493056  ultralytics.nn.modules.block.C2f             [384, 256, 1]                 \n",
      " 19                  -1  1    590336  ultralytics.nn.modules.conv.Conv             [256, 256, 3, 2]              \n",
      " 20             [-1, 9]  1         0  ultralytics.nn.modules.conv.Concat           [1]                           \n",
      " 21                  -1  1   1969152  ultralytics.nn.modules.block.C2f             [768, 512, 1]                 \n",
      " 22        [15, 18, 21]  1   2116822  ultralytics.nn.modules.head.Detect           [2, [128, 256, 512]]          \n",
      "Model summary: 225 layers, 11,136,374 parameters, 11,136,358 gradients, 28.6 GFLOPs\n",
      "\n",
      "Transferred 349/355 items from pretrained weights\n",
      "\u001b[34m\u001b[1mTensorBoard: \u001b[0mStart with 'tensorboard --logdir runs\\detect\\human_fall_s30', view at http://localhost:6006/\n",
      "Freezing layer 'model.22.dfl.conv.weight'\n",
      "\u001b[34m\u001b[1mAMP: \u001b[0mrunning Automatic Mixed Precision (AMP) checks with YOLOv8n...\n",
      "\u001b[34m\u001b[1mAMP: \u001b[0mchecks passed \n"
     ]
    },
    {
     "name": "stderr",
     "output_type": "stream",
     "text": [
      "\u001b[34m\u001b[1mtrain: \u001b[0mScanning D:\\human_fall\\dataset\\train\\labels... 87730 images, 0 backgrounds, 0 corrupt: 100%|██████████| 87730/87730 [10:55<00:00, 133.80it/s]\n"
     ]
    },
    {
     "name": "stdout",
     "output_type": "stream",
     "text": [
      "\u001b[34m\u001b[1mtrain: \u001b[0mNew cache created: D:\\human_fall\\dataset\\train\\labels.cache\n"
     ]
    },
    {
     "name": "stderr",
     "output_type": "stream",
     "text": [
      "\u001b[34m\u001b[1mval: \u001b[0mScanning D:\\human_fall\\dataset\\val\\labels... 42294 images, 0 backgrounds, 0 corrupt: 100%|██████████| 42294/42294 [08:31<00:00, 82.63it/s] \n"
     ]
    },
    {
     "name": "stdout",
     "output_type": "stream",
     "text": [
      "\u001b[34m\u001b[1mval: \u001b[0mNew cache created: D:\\human_fall\\dataset\\val\\labels.cache\n",
      "Plotting labels to runs\\detect\\human_fall_s30\\labels.jpg... \n",
      "\u001b[34m\u001b[1moptimizer:\u001b[0m 'optimizer=auto' found, ignoring 'lr0=0.01' and 'momentum=0.937' and determining best 'optimizer', 'lr0' and 'momentum' automatically... \n",
      "\u001b[34m\u001b[1moptimizer:\u001b[0m SGD(lr=0.01, momentum=0.9) with parameter groups 57 weight(decay=0.0), 64 weight(decay=0.0005), 63 bias(decay=0.0)\n",
      "\u001b[34m\u001b[1mTensorBoard: \u001b[0mmodel graph visualization added \n",
      "Image sizes 640 train, 640 val\n",
      "Using 20 dataloader workers\n",
      "Logging results to \u001b[1mruns\\detect\\human_fall_s30\u001b[0m\n",
      "Starting training for 50 epochs...\n",
      "\n",
      "      Epoch    GPU_mem   box_loss   cls_loss   dfl_loss  Instances       Size\n"
     ]
    },
    {
     "name": "stderr",
     "output_type": "stream",
     "text": [
      "       1/50      7.31G     0.5951     0.8663     0.9251          5        640: 100%|██████████| 5484/5484 [18:20<00:00,  4.98it/s]  \n",
      "                 Class     Images  Instances      Box(P          R      mAP50  mAP50-95): 100%|██████████| 1322/1322 [06:10<00:00,  3.57it/s]\n"
     ]
    },
    {
     "name": "stdout",
     "output_type": "stream",
     "text": [
      "                   all      42294      42294      0.977      0.991       0.99      0.918\n",
      "\n",
      "      Epoch    GPU_mem   box_loss   cls_loss   dfl_loss  Instances       Size\n"
     ]
    },
    {
     "name": "stderr",
     "output_type": "stream",
     "text": [
      "       2/50      4.32G     0.6386     0.7198     0.9338          5        640: 100%|██████████| 5484/5484 [17:39<00:00,  5.18it/s] \n",
      "                 Class     Images  Instances      Box(P          R      mAP50  mAP50-95): 100%|██████████| 1322/1322 [05:46<00:00,  3.82it/s]"
     ]
    },
    {
     "name": "stdout",
     "output_type": "stream",
     "text": [
      "                   all      42294      42294      0.972      0.994      0.989      0.922\n"
     ]
    },
    {
     "name": "stderr",
     "output_type": "stream",
     "text": [
      "\n"
     ]
    },
    {
     "name": "stdout",
     "output_type": "stream",
     "text": [
      "\n",
      "      Epoch    GPU_mem   box_loss   cls_loss   dfl_loss  Instances       Size\n"
     ]
    },
    {
     "name": "stderr",
     "output_type": "stream",
     "text": [
      "       3/50      4.32G     0.6952     0.7543      0.957          0        640: 100%|██████████| 5484/5484 [19:26<00:00,  4.70it/s]  \n",
      "                 Class     Images  Instances      Box(P          R      mAP50  mAP50-95): 100%|██████████| 1322/1322 [05:27<00:00,  4.04it/s]"
     ]
    },
    {
     "name": "stdout",
     "output_type": "stream",
     "text": [
      "                   all      42294      42294      0.982      0.995      0.991      0.928\n"
     ]
    },
    {
     "name": "stderr",
     "output_type": "stream",
     "text": [
      "\n"
     ]
    },
    {
     "name": "stdout",
     "output_type": "stream",
     "text": [
      "\n",
      "      Epoch    GPU_mem   box_loss   cls_loss   dfl_loss  Instances       Size\n"
     ]
    },
    {
     "name": "stderr",
     "output_type": "stream",
     "text": [
      "       4/50      4.19G     0.6751     0.7329      0.952          6        640: 100%|██████████| 5484/5484 [16:36<00:00,  5.50it/s]  \n",
      "                 Class     Images  Instances      Box(P          R      mAP50  mAP50-95): 100%|██████████| 1322/1322 [06:08<00:00,  3.59it/s]\n"
     ]
    },
    {
     "name": "stdout",
     "output_type": "stream",
     "text": [
      "                   all      42294      42294      0.985      0.994      0.991      0.938\n",
      "\n",
      "      Epoch    GPU_mem   box_loss   cls_loss   dfl_loss  Instances       Size\n"
     ]
    },
    {
     "name": "stderr",
     "output_type": "stream",
     "text": [
      "       5/50      4.21G     0.6134     0.6773     0.9321          4        640: 100%|██████████| 5484/5484 [18:10<00:00,  5.03it/s]  \n",
      "                 Class     Images  Instances      Box(P          R      mAP50  mAP50-95): 100%|██████████| 1322/1322 [04:59<00:00,  4.42it/s]\n"
     ]
    },
    {
     "name": "stdout",
     "output_type": "stream",
     "text": [
      "                   all      42294      42294      0.987       0.99      0.992      0.947\n",
      "\n",
      "      Epoch    GPU_mem   box_loss   cls_loss   dfl_loss  Instances       Size\n"
     ]
    },
    {
     "name": "stderr",
     "output_type": "stream",
     "text": [
      "       6/50      4.21G     0.5825     0.6497     0.9214          3        640: 100%|██████████| 5484/5484 [17:37<00:00,  5.18it/s]  \n",
      "                 Class     Images  Instances      Box(P          R      mAP50  mAP50-95): 100%|██████████| 1322/1322 [06:34<00:00,  3.35it/s]"
     ]
    },
    {
     "name": "stdout",
     "output_type": "stream",
     "text": [
      "                   all      42294      42294      0.987      0.993      0.992      0.951\n"
     ]
    },
    {
     "name": "stderr",
     "output_type": "stream",
     "text": [
      "\n"
     ]
    },
    {
     "name": "stdout",
     "output_type": "stream",
     "text": [
      "\n",
      "      Epoch    GPU_mem   box_loss   cls_loss   dfl_loss  Instances       Size\n"
     ]
    },
    {
     "name": "stderr",
     "output_type": "stream",
     "text": [
      "       7/50      4.18G     0.5608     0.6273     0.9147          6        640: 100%|██████████| 5484/5484 [17:00<00:00,  5.38it/s]\n",
      "                 Class     Images  Instances      Box(P          R      mAP50  mAP50-95): 100%|██████████| 1322/1322 [06:11<00:00,  3.56it/s]\n"
     ]
    },
    {
     "name": "stdout",
     "output_type": "stream",
     "text": [
      "                   all      42294      42294      0.992      0.993      0.993      0.954\n",
      "\n",
      "      Epoch    GPU_mem   box_loss   cls_loss   dfl_loss  Instances       Size\n"
     ]
    },
    {
     "name": "stderr",
     "output_type": "stream",
     "text": [
      "       8/50      4.21G     0.5439     0.6143     0.9096          2        640: 100%|██████████| 5484/5484 [18:31<00:00,  4.93it/s]  \n",
      "                 Class     Images  Instances      Box(P          R      mAP50  mAP50-95): 100%|██████████| 1322/1322 [04:38<00:00,  4.74it/s]"
     ]
    },
    {
     "name": "stdout",
     "output_type": "stream",
     "text": [
      "                   all      42294      42294      0.992      0.993      0.993      0.956\n"
     ]
    },
    {
     "name": "stderr",
     "output_type": "stream",
     "text": [
      "\n"
     ]
    },
    {
     "name": "stdout",
     "output_type": "stream",
     "text": [
      "\n",
      "      Epoch    GPU_mem   box_loss   cls_loss   dfl_loss  Instances       Size\n"
     ]
    },
    {
     "name": "stderr",
     "output_type": "stream",
     "text": [
      "       9/50      4.18G     0.5328     0.6042     0.9059          1        640: 100%|██████████| 5484/5484 [18:06<00:00,  5.05it/s]  \n",
      "                 Class     Images  Instances      Box(P          R      mAP50  mAP50-95): 100%|██████████| 1322/1322 [06:31<00:00,  3.37it/s]"
     ]
    },
    {
     "name": "stdout",
     "output_type": "stream",
     "text": [
      "                   all      42294      42294      0.992      0.992      0.993      0.957\n"
     ]
    },
    {
     "name": "stderr",
     "output_type": "stream",
     "text": [
      "\n"
     ]
    },
    {
     "name": "stdout",
     "output_type": "stream",
     "text": [
      "\n",
      "      Epoch    GPU_mem   box_loss   cls_loss   dfl_loss  Instances       Size\n"
     ]
    },
    {
     "name": "stderr",
     "output_type": "stream",
     "text": [
      "      10/50      4.21G     0.5225     0.5941      0.902          8        640: 100%|██████████| 5484/5484 [16:54<00:00,  5.41it/s] \n",
      "                 Class     Images  Instances      Box(P          R      mAP50  mAP50-95): 100%|██████████| 1322/1322 [06:12<00:00,  3.55it/s]"
     ]
    },
    {
     "name": "stdout",
     "output_type": "stream",
     "text": [
      "                   all      42294      42294      0.993      0.993      0.993      0.958\n"
     ]
    },
    {
     "name": "stderr",
     "output_type": "stream",
     "text": [
      "\n"
     ]
    },
    {
     "name": "stdout",
     "output_type": "stream",
     "text": [
      "\n",
      "      Epoch    GPU_mem   box_loss   cls_loss   dfl_loss  Instances       Size\n"
     ]
    },
    {
     "name": "stderr",
     "output_type": "stream",
     "text": [
      "      11/50      4.21G     0.5147     0.5828     0.9002          1        640: 100%|██████████| 5484/5484 [18:46<00:00,  4.87it/s]  \n",
      "                 Class     Images  Instances      Box(P          R      mAP50  mAP50-95): 100%|██████████| 1322/1322 [04:40<00:00,  4.72it/s]"
     ]
    },
    {
     "name": "stdout",
     "output_type": "stream",
     "text": [
      "                   all      42294      42294      0.993      0.993      0.993      0.959\n"
     ]
    },
    {
     "name": "stderr",
     "output_type": "stream",
     "text": [
      "\n"
     ]
    },
    {
     "name": "stdout",
     "output_type": "stream",
     "text": [
      "\n",
      "      Epoch    GPU_mem   box_loss   cls_loss   dfl_loss  Instances       Size\n"
     ]
    },
    {
     "name": "stderr",
     "output_type": "stream",
     "text": [
      "      12/50      4.21G     0.5098     0.5782     0.8986          2        640: 100%|██████████| 5484/5484 [17:43<00:00,  5.16it/s]\n",
      "                 Class     Images  Instances      Box(P          R      mAP50  mAP50-95): 100%|██████████| 1322/1322 [06:37<00:00,  3.33it/s]"
     ]
    },
    {
     "name": "stdout",
     "output_type": "stream",
     "text": [
      "                   all      42294      42294      0.993      0.993      0.993       0.96\n"
     ]
    },
    {
     "name": "stderr",
     "output_type": "stream",
     "text": [
      "\n"
     ]
    },
    {
     "name": "stdout",
     "output_type": "stream",
     "text": [
      "\n",
      "      Epoch    GPU_mem   box_loss   cls_loss   dfl_loss  Instances       Size\n"
     ]
    },
    {
     "name": "stderr",
     "output_type": "stream",
     "text": [
      "      13/50      4.18G      0.503     0.5699     0.8975          3        640: 100%|██████████| 5484/5484 [17:04<00:00,  5.35it/s]  \n",
      "                 Class     Images  Instances      Box(P          R      mAP50  mAP50-95): 100%|██████████| 1322/1322 [06:17<00:00,  3.51it/s]"
     ]
    },
    {
     "name": "stdout",
     "output_type": "stream",
     "text": [
      "                   all      42294      42294      0.993      0.993      0.993       0.96\n"
     ]
    },
    {
     "name": "stderr",
     "output_type": "stream",
     "text": [
      "\n"
     ]
    },
    {
     "name": "stdout",
     "output_type": "stream",
     "text": [
      "\n",
      "      Epoch    GPU_mem   box_loss   cls_loss   dfl_loss  Instances       Size\n"
     ]
    },
    {
     "name": "stderr",
     "output_type": "stream",
     "text": [
      "      14/50      4.18G     0.4969     0.5646     0.8957          2        640: 100%|██████████| 5484/5484 [18:45<00:00,  4.87it/s]  \n",
      "                 Class     Images  Instances      Box(P          R      mAP50  mAP50-95): 100%|██████████| 1322/1322 [04:54<00:00,  4.49it/s]"
     ]
    },
    {
     "name": "stdout",
     "output_type": "stream",
     "text": [
      "                   all      42294      42294      0.993      0.992      0.993       0.96\n"
     ]
    },
    {
     "name": "stderr",
     "output_type": "stream",
     "text": [
      "\n"
     ]
    },
    {
     "name": "stdout",
     "output_type": "stream",
     "text": [
      "\n",
      "      Epoch    GPU_mem   box_loss   cls_loss   dfl_loss  Instances       Size\n"
     ]
    },
    {
     "name": "stderr",
     "output_type": "stream",
     "text": [
      "      15/50      4.18G     0.4943     0.5596     0.8943          1        640: 100%|██████████| 5484/5484 [18:34<00:00,  4.92it/s]  \n",
      "                 Class     Images  Instances      Box(P          R      mAP50  mAP50-95): 100%|██████████| 1322/1322 [06:30<00:00,  3.39it/s]"
     ]
    },
    {
     "name": "stdout",
     "output_type": "stream",
     "text": [
      "                   all      42294      42294      0.993      0.992      0.993      0.961\n"
     ]
    },
    {
     "name": "stderr",
     "output_type": "stream",
     "text": [
      "\n"
     ]
    },
    {
     "name": "stdout",
     "output_type": "stream",
     "text": [
      "\n",
      "      Epoch    GPU_mem   box_loss   cls_loss   dfl_loss  Instances       Size\n"
     ]
    },
    {
     "name": "stderr",
     "output_type": "stream",
     "text": [
      "      16/50      4.21G     0.4886     0.5525     0.8923          5        640: 100%|██████████| 5484/5484 [17:09<00:00,  5.33it/s]  \n",
      "                 Class     Images  Instances      Box(P          R      mAP50  mAP50-95): 100%|██████████| 1322/1322 [06:01<00:00,  3.65it/s]"
     ]
    },
    {
     "name": "stdout",
     "output_type": "stream",
     "text": [
      "                   all      42294      42294      0.994      0.992      0.993      0.961\n"
     ]
    },
    {
     "name": "stderr",
     "output_type": "stream",
     "text": [
      "\n"
     ]
    },
    {
     "name": "stdout",
     "output_type": "stream",
     "text": [
      "\n",
      "      Epoch    GPU_mem   box_loss   cls_loss   dfl_loss  Instances       Size\n"
     ]
    },
    {
     "name": "stderr",
     "output_type": "stream",
     "text": [
      "      17/50      4.19G     0.4844     0.5498     0.8925          3        640: 100%|██████████| 5484/5484 [19:02<00:00,  4.80it/s]  \n",
      "                 Class     Images  Instances      Box(P          R      mAP50  mAP50-95): 100%|██████████| 1322/1322 [05:27<00:00,  4.03it/s]\n"
     ]
    },
    {
     "name": "stdout",
     "output_type": "stream",
     "text": [
      "                   all      42294      42294      0.994      0.991      0.993      0.962\n",
      "\n",
      "      Epoch    GPU_mem   box_loss   cls_loss   dfl_loss  Instances       Size\n"
     ]
    },
    {
     "name": "stderr",
     "output_type": "stream",
     "text": [
      "      18/50      4.21G      0.478     0.5446     0.8894          2        640: 100%|██████████| 5484/5484 [17:39<00:00,  5.18it/s]  \n",
      "                 Class     Images  Instances      Box(P          R      mAP50  mAP50-95): 100%|██████████| 1322/1322 [06:32<00:00,  3.37it/s]"
     ]
    },
    {
     "name": "stdout",
     "output_type": "stream",
     "text": [
      "                   all      42294      42294      0.994      0.991      0.993      0.962\n"
     ]
    },
    {
     "name": "stderr",
     "output_type": "stream",
     "text": [
      "\n"
     ]
    },
    {
     "name": "stdout",
     "output_type": "stream",
     "text": [
      "\n",
      "      Epoch    GPU_mem   box_loss   cls_loss   dfl_loss  Instances       Size\n"
     ]
    },
    {
     "name": "stderr",
     "output_type": "stream",
     "text": [
      "      19/50      4.18G     0.4752     0.5412     0.8887          3        640: 100%|██████████| 5484/5484 [17:32<00:00,  5.21it/s]  \n",
      "                 Class     Images  Instances      Box(P          R      mAP50  mAP50-95): 100%|██████████| 1322/1322 [06:13<00:00,  3.54it/s]"
     ]
    },
    {
     "name": "stdout",
     "output_type": "stream",
     "text": [
      "                   all      42294      42294      0.994       0.99      0.993      0.962\n"
     ]
    },
    {
     "name": "stderr",
     "output_type": "stream",
     "text": [
      "\n"
     ]
    },
    {
     "name": "stdout",
     "output_type": "stream",
     "text": [
      "\n",
      "      Epoch    GPU_mem   box_loss   cls_loss   dfl_loss  Instances       Size\n"
     ]
    },
    {
     "name": "stderr",
     "output_type": "stream",
     "text": [
      "      20/50      4.18G     0.4705     0.5358     0.8877          3        640: 100%|██████████| 5484/5484 [19:07<00:00,  4.78it/s]  \n",
      "                 Class     Images  Instances      Box(P          R      mAP50  mAP50-95): 100%|██████████| 1322/1322 [05:34<00:00,  3.95it/s]\n"
     ]
    },
    {
     "name": "stdout",
     "output_type": "stream",
     "text": [
      "                   all      42294      42294      0.994       0.99      0.993      0.963\n",
      "\n",
      "      Epoch    GPU_mem   box_loss   cls_loss   dfl_loss  Instances       Size\n"
     ]
    },
    {
     "name": "stderr",
     "output_type": "stream",
     "text": [
      "      21/50      4.18G     0.4648     0.5308     0.8863          3        640: 100%|██████████| 5484/5484 [19:13<00:00,  4.75it/s]  \n",
      "                 Class     Images  Instances      Box(P          R      mAP50  mAP50-95): 100%|██████████| 1322/1322 [06:36<00:00,  3.33it/s]"
     ]
    },
    {
     "name": "stdout",
     "output_type": "stream",
     "text": [
      "                   all      42294      42294      0.994       0.99      0.993      0.963\n"
     ]
    },
    {
     "name": "stderr",
     "output_type": "stream",
     "text": [
      "\n"
     ]
    },
    {
     "name": "stdout",
     "output_type": "stream",
     "text": [
      "\n",
      "      Epoch    GPU_mem   box_loss   cls_loss   dfl_loss  Instances       Size\n"
     ]
    },
    {
     "name": "stderr",
     "output_type": "stream",
     "text": [
      "      22/50       4.2G     0.4635     0.5274     0.8855          3        640: 100%|██████████| 5484/5484 [18:08<00:00,  5.04it/s]  \n",
      "                 Class     Images  Instances      Box(P          R      mAP50  mAP50-95): 100%|██████████| 1322/1322 [06:10<00:00,  3.57it/s]\n"
     ]
    },
    {
     "name": "stdout",
     "output_type": "stream",
     "text": [
      "                   all      42294      42294      0.995      0.989      0.993      0.963\n",
      "\n",
      "      Epoch    GPU_mem   box_loss   cls_loss   dfl_loss  Instances       Size\n"
     ]
    },
    {
     "name": "stderr",
     "output_type": "stream",
     "text": [
      "      23/50      4.18G     0.4608     0.5208     0.8837          3        640: 100%|██████████| 5484/5484 [19:04<00:00,  4.79it/s]  \n",
      "                 Class     Images  Instances      Box(P          R      mAP50  mAP50-95): 100%|██████████| 1322/1322 [05:20<00:00,  4.13it/s]"
     ]
    },
    {
     "name": "stdout",
     "output_type": "stream",
     "text": [
      "                   all      42294      42294      0.995      0.989      0.993      0.964\n"
     ]
    },
    {
     "name": "stderr",
     "output_type": "stream",
     "text": [
      "\n"
     ]
    },
    {
     "name": "stdout",
     "output_type": "stream",
     "text": [
      "\n",
      "      Epoch    GPU_mem   box_loss   cls_loss   dfl_loss  Instances       Size\n"
     ]
    },
    {
     "name": "stderr",
     "output_type": "stream",
     "text": [
      "      24/50       4.2G     0.4561     0.5155     0.8837          3        640: 100%|██████████| 5484/5484 [18:39<00:00,  4.90it/s]  \n",
      "                 Class     Images  Instances      Box(P          R      mAP50  mAP50-95): 100%|██████████| 1322/1322 [05:49<00:00,  3.78it/s]"
     ]
    },
    {
     "name": "stdout",
     "output_type": "stream",
     "text": [
      "                   all      42294      42294      0.995      0.988      0.993      0.964\n"
     ]
    },
    {
     "name": "stderr",
     "output_type": "stream",
     "text": [
      "\n"
     ]
    },
    {
     "name": "stdout",
     "output_type": "stream",
     "text": [
      "\n",
      "      Epoch    GPU_mem   box_loss   cls_loss   dfl_loss  Instances       Size\n"
     ]
    },
    {
     "name": "stderr",
     "output_type": "stream",
     "text": [
      "      25/50      4.18G     0.4539      0.511     0.8824          6        640: 100%|██████████| 5484/5484 [17:22<00:00,  5.26it/s]  \n",
      "                 Class     Images  Instances      Box(P          R      mAP50  mAP50-95): 100%|██████████| 1322/1322 [06:11<00:00,  3.56it/s]"
     ]
    },
    {
     "name": "stdout",
     "output_type": "stream",
     "text": [
      "                   all      42294      42294      0.994      0.988      0.993      0.964\n"
     ]
    },
    {
     "name": "stderr",
     "output_type": "stream",
     "text": [
      "\n"
     ]
    },
    {
     "name": "stdout",
     "output_type": "stream",
     "text": [
      "\n",
      "      Epoch    GPU_mem   box_loss   cls_loss   dfl_loss  Instances       Size\n"
     ]
    },
    {
     "name": "stderr",
     "output_type": "stream",
     "text": [
      "      26/50      4.18G      0.449      0.508      0.881          3        640: 100%|██████████| 5484/5484 [19:26<00:00,  4.70it/s]  \n",
      "                 Class     Images  Instances      Box(P          R      mAP50  mAP50-95): 100%|██████████| 1322/1322 [04:58<00:00,  4.43it/s]\n"
     ]
    },
    {
     "name": "stdout",
     "output_type": "stream",
     "text": [
      "                   all      42294      42294      0.994      0.987      0.993      0.964\n",
      "\n",
      "      Epoch    GPU_mem   box_loss   cls_loss   dfl_loss  Instances       Size\n"
     ]
    },
    {
     "name": "stderr",
     "output_type": "stream",
     "text": [
      "      27/50       4.2G     0.4445     0.5025     0.8798          4        640: 100%|██████████| 5484/5484 [19:12<00:00,  4.76it/s]  \n",
      "                 Class     Images  Instances      Box(P          R      mAP50  mAP50-95): 100%|██████████| 1322/1322 [05:29<00:00,  4.01it/s]"
     ]
    },
    {
     "name": "stdout",
     "output_type": "stream",
     "text": [
      "                   all      42294      42294      0.994       0.99      0.993      0.965\n"
     ]
    },
    {
     "name": "stderr",
     "output_type": "stream",
     "text": [
      "\n"
     ]
    },
    {
     "name": "stdout",
     "output_type": "stream",
     "text": [
      "\n",
      "      Epoch    GPU_mem   box_loss   cls_loss   dfl_loss  Instances       Size\n"
     ]
    },
    {
     "name": "stderr",
     "output_type": "stream",
     "text": [
      "      28/50      4.19G     0.4427        0.5       0.88          4        640: 100%|██████████| 5484/5484 [16:57<00:00,  5.39it/s]  \n",
      "                 Class     Images  Instances      Box(P          R      mAP50  mAP50-95): 100%|██████████| 1322/1322 [06:09<00:00,  3.57it/s]\n"
     ]
    },
    {
     "name": "stdout",
     "output_type": "stream",
     "text": [
      "                   all      42294      42294      0.994       0.99      0.993      0.965\n",
      "\n",
      "      Epoch    GPU_mem   box_loss   cls_loss   dfl_loss  Instances       Size\n"
     ]
    },
    {
     "name": "stderr",
     "output_type": "stream",
     "text": [
      "      29/50       4.2G     0.4376     0.4944     0.8782          1        640: 100%|██████████| 5484/5484 [19:16<00:00,  4.74it/s]  \n",
      "                 Class     Images  Instances      Box(P          R      mAP50  mAP50-95): 100%|██████████| 1322/1322 [04:52<00:00,  4.52it/s]"
     ]
    },
    {
     "name": "stdout",
     "output_type": "stream",
     "text": [
      "                   all      42294      42294      0.995      0.989      0.993      0.965\n"
     ]
    },
    {
     "name": "stderr",
     "output_type": "stream",
     "text": [
      "\n"
     ]
    },
    {
     "name": "stdout",
     "output_type": "stream",
     "text": [
      "\n",
      "      Epoch    GPU_mem   box_loss   cls_loss   dfl_loss  Instances       Size\n"
     ]
    },
    {
     "name": "stderr",
     "output_type": "stream",
     "text": [
      "      30/50      4.18G     0.4355     0.4908     0.8786          3        640: 100%|██████████| 5484/5484 [18:09<00:00,  5.03it/s]  \n",
      "                 Class     Images  Instances      Box(P          R      mAP50  mAP50-95): 100%|██████████| 1322/1322 [06:31<00:00,  3.38it/s]"
     ]
    },
    {
     "name": "stdout",
     "output_type": "stream",
     "text": [
      "                   all      42294      42294      0.995      0.989      0.993      0.966\n"
     ]
    },
    {
     "name": "stderr",
     "output_type": "stream",
     "text": [
      "\n"
     ]
    },
    {
     "name": "stdout",
     "output_type": "stream",
     "text": [
      "\n",
      "      Epoch    GPU_mem   box_loss   cls_loss   dfl_loss  Instances       Size\n"
     ]
    },
    {
     "name": "stderr",
     "output_type": "stream",
     "text": [
      "      31/50      4.18G     0.4297     0.4877      0.876          1        640: 100%|██████████| 5484/5484 [18:44<00:00,  4.88it/s]  \n",
      "                 Class     Images  Instances      Box(P          R      mAP50  mAP50-95): 100%|██████████| 1322/1322 [06:13<00:00,  3.54it/s]"
     ]
    },
    {
     "name": "stdout",
     "output_type": "stream",
     "text": [
      "                   all      42294      42294      0.994      0.989      0.993      0.966\n"
     ]
    },
    {
     "name": "stderr",
     "output_type": "stream",
     "text": [
      "\n"
     ]
    },
    {
     "name": "stdout",
     "output_type": "stream",
     "text": [
      "\n",
      "      Epoch    GPU_mem   box_loss   cls_loss   dfl_loss  Instances       Size\n"
     ]
    },
    {
     "name": "stderr",
     "output_type": "stream",
     "text": [
      "      32/50      4.18G      0.428     0.4823     0.8757          7        640: 100%|██████████| 5484/5484 [19:47<00:00,  4.62it/s]  \n",
      "                 Class     Images  Instances      Box(P          R      mAP50  mAP50-95): 100%|██████████| 1322/1322 [05:34<00:00,  3.96it/s]\n"
     ]
    },
    {
     "name": "stdout",
     "output_type": "stream",
     "text": [
      "                   all      42294      42294      0.994       0.99      0.993      0.966\n",
      "\n",
      "      Epoch    GPU_mem   box_loss   cls_loss   dfl_loss  Instances       Size\n"
     ]
    },
    {
     "name": "stderr",
     "output_type": "stream",
     "text": [
      "      33/50      4.21G     0.4234     0.4743     0.8739          2        640: 100%|██████████| 5484/5484 [17:15<00:00,  5.30it/s]  \n",
      "                 Class     Images  Instances      Box(P          R      mAP50  mAP50-95): 100%|██████████| 1322/1322 [06:39<00:00,  3.31it/s]\n"
     ]
    },
    {
     "name": "stdout",
     "output_type": "stream",
     "text": [
      "                   all      42294      42294      0.995      0.989      0.994      0.966\n",
      "\n",
      "      Epoch    GPU_mem   box_loss   cls_loss   dfl_loss  Instances       Size\n"
     ]
    },
    {
     "name": "stderr",
     "output_type": "stream",
     "text": [
      "      34/50      4.19G     0.4214     0.4703     0.8739          2        640: 100%|██████████| 5484/5484 [18:55<00:00,  4.83it/s]  \n",
      "                 Class     Images  Instances      Box(P          R      mAP50  mAP50-95): 100%|██████████| 1322/1322 [06:10<00:00,  3.57it/s]"
     ]
    },
    {
     "name": "stdout",
     "output_type": "stream",
     "text": [
      "                   all      42294      42294      0.995       0.99      0.994      0.967\n"
     ]
    },
    {
     "name": "stderr",
     "output_type": "stream",
     "text": [
      "\n"
     ]
    },
    {
     "name": "stdout",
     "output_type": "stream",
     "text": [
      "\n",
      "      Epoch    GPU_mem   box_loss   cls_loss   dfl_loss  Instances       Size\n"
     ]
    },
    {
     "name": "stderr",
     "output_type": "stream",
     "text": [
      "      35/50      4.21G     0.4172     0.4661     0.8731          5        640: 100%|██████████| 5484/5484 [19:27<00:00,  4.70it/s]  \n",
      "                 Class     Images  Instances      Box(P          R      mAP50  mAP50-95): 100%|██████████| 1322/1322 [05:17<00:00,  4.16it/s]"
     ]
    },
    {
     "name": "stdout",
     "output_type": "stream",
     "text": [
      "                   all      42294      42294      0.994      0.993      0.994      0.967\n"
     ]
    },
    {
     "name": "stderr",
     "output_type": "stream",
     "text": [
      "\n"
     ]
    },
    {
     "name": "stdout",
     "output_type": "stream",
     "text": [
      "\n",
      "      Epoch    GPU_mem   box_loss   cls_loss   dfl_loss  Instances       Size\n"
     ]
    },
    {
     "name": "stderr",
     "output_type": "stream",
     "text": [
      "      36/50      4.18G     0.4173      0.459     0.8725          5        640: 100%|██████████| 5484/5484 [16:16<00:00,  5.61it/s]  \n",
      "                 Class     Images  Instances      Box(P          R      mAP50  mAP50-95): 100%|██████████| 1322/1322 [06:36<00:00,  3.34it/s]"
     ]
    },
    {
     "name": "stdout",
     "output_type": "stream",
     "text": [
      "                   all      42294      42294      0.993      0.996      0.994      0.967\n"
     ]
    },
    {
     "name": "stderr",
     "output_type": "stream",
     "text": [
      "\n"
     ]
    },
    {
     "name": "stdout",
     "output_type": "stream",
     "text": [
      "\n",
      "      Epoch    GPU_mem   box_loss   cls_loss   dfl_loss  Instances       Size\n"
     ]
    },
    {
     "name": "stderr",
     "output_type": "stream",
     "text": [
      "      37/50      4.21G     0.4105     0.4549     0.8708          8        640: 100%|██████████| 5484/5484 [18:43<00:00,  4.88it/s]  \n",
      "                 Class     Images  Instances      Box(P          R      mAP50  mAP50-95): 100%|██████████| 1322/1322 [06:09<00:00,  3.58it/s]"
     ]
    },
    {
     "name": "stdout",
     "output_type": "stream",
     "text": [
      "                   all      42294      42294      0.991      0.997      0.994      0.967\n"
     ]
    },
    {
     "name": "stderr",
     "output_type": "stream",
     "text": [
      "\n"
     ]
    },
    {
     "name": "stdout",
     "output_type": "stream",
     "text": [
      "\n",
      "      Epoch    GPU_mem   box_loss   cls_loss   dfl_loss  Instances       Size\n"
     ]
    },
    {
     "name": "stderr",
     "output_type": "stream",
     "text": [
      "      38/50      4.18G     0.4079     0.4499     0.8708          2        640: 100%|██████████| 5484/5484 [20:01<00:00,  4.57it/s] \n",
      "                 Class     Images  Instances      Box(P          R      mAP50  mAP50-95): 100%|██████████| 1322/1322 [05:27<00:00,  4.03it/s]"
     ]
    },
    {
     "name": "stdout",
     "output_type": "stream",
     "text": [
      "                   all      42294      42294      0.978      0.997      0.994      0.968\n"
     ]
    },
    {
     "name": "stderr",
     "output_type": "stream",
     "text": [
      "\n"
     ]
    },
    {
     "name": "stdout",
     "output_type": "stream",
     "text": [
      "\n",
      "      Epoch    GPU_mem   box_loss   cls_loss   dfl_loss  Instances       Size\n"
     ]
    },
    {
     "name": "stderr",
     "output_type": "stream",
     "text": [
      "      39/50       4.2G     0.4015     0.4425     0.8686          3        640: 100%|██████████| 5484/5484 [17:40<00:00,  5.17it/s]  \n",
      "                 Class     Images  Instances      Box(P          R      mAP50  mAP50-95): 100%|██████████| 1322/1322 [06:34<00:00,  3.35it/s]"
     ]
    },
    {
     "name": "stdout",
     "output_type": "stream",
     "text": [
      "                   all      42294      42294      0.978      0.997      0.994      0.968\n"
     ]
    },
    {
     "name": "stderr",
     "output_type": "stream",
     "text": [
      "\n"
     ]
    },
    {
     "name": "stdout",
     "output_type": "stream",
     "text": [
      "\n",
      "      Epoch    GPU_mem   box_loss   cls_loss   dfl_loss  Instances       Size\n"
     ]
    },
    {
     "name": "stderr",
     "output_type": "stream",
     "text": [
      "      40/50      4.18G     0.3982     0.4367     0.8674          2        640: 100%|██████████| 5484/5484 [18:52<00:00,  4.84it/s]  \n",
      "                 Class     Images  Instances      Box(P          R      mAP50  mAP50-95): 100%|██████████| 1322/1322 [06:10<00:00,  3.57it/s]"
     ]
    },
    {
     "name": "stdout",
     "output_type": "stream",
     "text": [
      "                   all      42294      42294       0.98      0.997      0.994      0.968\n"
     ]
    },
    {
     "name": "stderr",
     "output_type": "stream",
     "text": [
      "\n"
     ]
    },
    {
     "name": "stdout",
     "output_type": "stream",
     "text": [
      "Closing dataloader mosaic\n",
      "\n",
      "      Epoch    GPU_mem   box_loss   cls_loss   dfl_loss  Instances       Size\n"
     ]
    },
    {
     "name": "stderr",
     "output_type": "stream",
     "text": [
      "      41/50      4.19G     0.2721     0.3522     0.8024          2        640: 100%|██████████| 5484/5484 [18:16<00:00,  5.00it/s]  \n",
      "                 Class     Images  Instances      Box(P          R      mAP50  mAP50-95): 100%|██████████| 1322/1322 [05:49<00:00,  3.78it/s]\n"
     ]
    },
    {
     "name": "stdout",
     "output_type": "stream",
     "text": [
      "                   all      42294      42294      0.983      0.997      0.994      0.968\n",
      "\n",
      "      Epoch    GPU_mem   box_loss   cls_loss   dfl_loss  Instances       Size\n"
     ]
    },
    {
     "name": "stderr",
     "output_type": "stream",
     "text": [
      "      42/50      4.18G     0.2668      0.342      0.801          2        640: 100%|██████████| 5484/5484 [18:53<00:00,  4.84it/s]  \n",
      "                 Class     Images  Instances      Box(P          R      mAP50  mAP50-95): 100%|██████████| 1322/1322 [05:41<00:00,  3.87it/s]\n"
     ]
    },
    {
     "name": "stdout",
     "output_type": "stream",
     "text": [
      "                   all      42294      42294      0.985      0.997      0.994      0.969\n",
      "\n",
      "      Epoch    GPU_mem   box_loss   cls_loss   dfl_loss  Instances       Size\n"
     ]
    },
    {
     "name": "stderr",
     "output_type": "stream",
     "text": [
      "      43/50      4.18G     0.2617     0.3315     0.7994          2        640: 100%|██████████| 5484/5484 [16:46<00:00,  5.45it/s]  \n",
      "                 Class     Images  Instances      Box(P          R      mAP50  mAP50-95): 100%|██████████| 1322/1322 [05:56<00:00,  3.71it/s]\n"
     ]
    },
    {
     "name": "stdout",
     "output_type": "stream",
     "text": [
      "                   all      42294      42294      0.987      0.997      0.994      0.969\n",
      "\n",
      "      Epoch    GPU_mem   box_loss   cls_loss   dfl_loss  Instances       Size\n"
     ]
    },
    {
     "name": "stderr",
     "output_type": "stream",
     "text": [
      "      44/50      4.19G     0.2578     0.3233     0.7976          2        640: 100%|██████████| 5484/5484 [18:52<00:00,  4.84it/s]  \n",
      "                 Class     Images  Instances      Box(P          R      mAP50  mAP50-95): 100%|██████████| 1322/1322 [04:46<00:00,  4.61it/s]"
     ]
    },
    {
     "name": "stdout",
     "output_type": "stream",
     "text": [
      "                   all      42294      42294      0.987      0.997      0.994      0.969\n"
     ]
    },
    {
     "name": "stderr",
     "output_type": "stream",
     "text": [
      "\n"
     ]
    },
    {
     "name": "stdout",
     "output_type": "stream",
     "text": [
      "\n",
      "      Epoch    GPU_mem   box_loss   cls_loss   dfl_loss  Instances       Size\n"
     ]
    },
    {
     "name": "stderr",
     "output_type": "stream",
     "text": [
      "      45/50      4.21G     0.2523     0.3115     0.7969          2        640: 100%|██████████| 5484/5484 [18:23<00:00,  4.97it/s]  \n",
      "                 Class     Images  Instances      Box(P          R      mAP50  mAP50-95): 100%|██████████| 1322/1322 [06:08<00:00,  3.59it/s]\n"
     ]
    },
    {
     "name": "stdout",
     "output_type": "stream",
     "text": [
      "                   all      42294      42294      0.988      0.997      0.994      0.969\n",
      "\n",
      "      Epoch    GPU_mem   box_loss   cls_loss   dfl_loss  Instances       Size\n"
     ]
    },
    {
     "name": "stderr",
     "output_type": "stream",
     "text": [
      "      46/50      4.21G     0.2474     0.3018      0.796          2        640: 100%|██████████| 5484/5484 [16:49<00:00,  5.43it/s] \n",
      "                 Class     Images  Instances      Box(P          R      mAP50  mAP50-95): 100%|██████████| 1322/1322 [06:12<00:00,  3.55it/s]"
     ]
    },
    {
     "name": "stdout",
     "output_type": "stream",
     "text": [
      "                   all      42294      42294      0.989      0.997      0.994       0.97\n"
     ]
    },
    {
     "name": "stderr",
     "output_type": "stream",
     "text": [
      "\n"
     ]
    },
    {
     "name": "stdout",
     "output_type": "stream",
     "text": [
      "\n",
      "      Epoch    GPU_mem   box_loss   cls_loss   dfl_loss  Instances       Size\n"
     ]
    },
    {
     "name": "stderr",
     "output_type": "stream",
     "text": [
      "      47/50      4.18G     0.2429     0.2895     0.7929          2        640: 100%|██████████| 5484/5484 [18:55<00:00,  4.83it/s]  \n",
      "                 Class     Images  Instances      Box(P          R      mAP50  mAP50-95): 100%|██████████| 1322/1322 [04:41<00:00,  4.69it/s]"
     ]
    },
    {
     "name": "stdout",
     "output_type": "stream",
     "text": [
      "                   all      42294      42294       0.99      0.997      0.994       0.97\n"
     ]
    },
    {
     "name": "stderr",
     "output_type": "stream",
     "text": [
      "\n"
     ]
    },
    {
     "name": "stdout",
     "output_type": "stream",
     "text": [
      "\n",
      "      Epoch    GPU_mem   box_loss   cls_loss   dfl_loss  Instances       Size\n"
     ]
    },
    {
     "name": "stderr",
     "output_type": "stream",
     "text": [
      "      48/50      4.21G     0.2388     0.2789     0.7923          2        640: 100%|██████████| 5484/5484 [18:24<00:00,  4.97it/s]  \n",
      "                 Class     Images  Instances      Box(P          R      mAP50  mAP50-95): 100%|██████████| 1322/1322 [06:22<00:00,  3.45it/s]"
     ]
    },
    {
     "name": "stdout",
     "output_type": "stream",
     "text": [
      "                   all      42294      42294       0.99      0.997      0.994       0.97\n"
     ]
    },
    {
     "name": "stderr",
     "output_type": "stream",
     "text": [
      "\n"
     ]
    },
    {
     "name": "stdout",
     "output_type": "stream",
     "text": [
      "\n",
      "      Epoch    GPU_mem   box_loss   cls_loss   dfl_loss  Instances       Size\n"
     ]
    },
    {
     "name": "stderr",
     "output_type": "stream",
     "text": [
      "      49/50      4.18G     0.2345     0.2684     0.7903          2        640: 100%|██████████| 5484/5484 [16:35<00:00,  5.51it/s]  \n",
      "                 Class     Images  Instances      Box(P          R      mAP50  mAP50-95): 100%|██████████| 1322/1322 [06:01<00:00,  3.66it/s]"
     ]
    },
    {
     "name": "stdout",
     "output_type": "stream",
     "text": [
      "                   all      42294      42294       0.99      0.996      0.994       0.97\n"
     ]
    },
    {
     "name": "stderr",
     "output_type": "stream",
     "text": [
      "\n"
     ]
    },
    {
     "name": "stdout",
     "output_type": "stream",
     "text": [
      "\n",
      "      Epoch    GPU_mem   box_loss   cls_loss   dfl_loss  Instances       Size\n"
     ]
    },
    {
     "name": "stderr",
     "output_type": "stream",
     "text": [
      "      50/50      4.21G     0.2308     0.2552     0.7892          2        640: 100%|██████████| 5484/5484 [18:29<00:00,  4.94it/s]  \n",
      "                 Class     Images  Instances      Box(P          R      mAP50  mAP50-95): 100%|██████████| 1322/1322 [04:12<00:00,  5.24it/s]\n"
     ]
    },
    {
     "name": "stdout",
     "output_type": "stream",
     "text": [
      "                   all      42294      42294       0.99      0.996      0.994       0.97\n",
      "\n",
      "50 epochs completed in 20.185 hours.\n",
      "Optimizer stripped from runs\\detect\\human_fall_s30\\weights\\last.pt, 22.5MB\n",
      "Optimizer stripped from runs\\detect\\human_fall_s30\\weights\\best.pt, 22.5MB\n",
      "\n",
      "Validating runs\\detect\\human_fall_s30\\weights\\best.pt...\n",
      "Ultralytics YOLOv8.2.101  Python-3.10.6 torch-2.2.1+cu118 CUDA:0 (NVIDIA GeForce RTX 4070 SUPER, 12282MiB)\n",
      "Model summary (fused): 168 layers, 11,126,358 parameters, 0 gradients, 28.4 GFLOPs\n"
     ]
    },
    {
     "name": "stderr",
     "output_type": "stream",
     "text": [
      "                 Class     Images  Instances      Box(P          R      mAP50  mAP50-95): 100%|██████████| 1322/1322 [04:48<00:00,  4.59it/s]\n"
     ]
    },
    {
     "name": "stdout",
     "output_type": "stream",
     "text": [
      "                   all      42294      42294       0.99      0.996      0.994       0.97\n",
      "                  Fall      42294      42294       0.99      0.996      0.994       0.97\n",
      "Speed: 0.2ms preprocess, 2.8ms inference, 0.0ms loss, 0.4ms postprocess per image\n",
      "Results saved to \u001b[1mruns\\detect\\human_fall_s30\u001b[0m\n",
      "실행 시간: 74244.0928 초\n"
     ]
    }
   ],
   "source": [
    "start_time = time.time()\n",
    "\n",
    "model = YOLO('yolov8s.pt')\n",
    "result = model.train(data = 'D:\\\\project\\\\prjvenv\\\\yaml_info_yolov8s.yaml', epochs = 50, batch = 16, imgsz =640, device = device, workers = 20, amp = True, patience = 30, name = 'human_fall_s')\n",
    "\n",
    "end_time = time.time()\n",
    "execution_time = end_time - start_time\n",
    "print(f\"실행 시간: {execution_time:.4f} 초\") # 약 20시간 소요"
   ]
  },
  {
   "cell_type": "code",
   "execution_count": 15,
   "metadata": {},
   "outputs": [
    {
     "name": "stdout",
     "output_type": "stream",
     "text": [
      "Model summary (fused): 168 layers, 11,126,358 parameters, 0 gradients, 28.4 GFLOPs\n"
     ]
    },
    {
     "name": "stderr",
     "output_type": "stream",
     "text": [
      "\u001b[34m\u001b[1mval: \u001b[0mScanning D:\\human_fall\\dataset\\val\\labels.cache... 42294 images, 0 backgrounds, 0 corrupt: 100%|██████████| 42294/42294 [00:00<?, ?it/s]\n",
      "                 Class     Images  Instances      Box(P          R      mAP50  mAP50-95): 100%|██████████| 1322/1322 [04:34<00:00,  4.81it/s]\n"
     ]
    },
    {
     "name": "stdout",
     "output_type": "stream",
     "text": [
      "                   all      42294      42294       0.99      0.996      0.994      0.971\n",
      "                  Fall      42294      42294       0.99      0.996      0.994      0.971\n",
      "Speed: 0.2ms preprocess, 4.3ms inference, 0.0ms loss, 0.5ms postprocess per image\n",
      "Results saved to \u001b[1mruns\\detect\\val2\u001b[0m\n",
      "Validation Results:\n",
      "mAP50: 0.9939\n",
      "mAP50-95: 0.9705\n",
      "실행 시간: 295.3777 초\n"
     ]
    }
   ],
   "source": [
    "# 평가 시작 시간 기록\n",
    "start_time = time.time()\n",
    "\n",
    "# 훈련된 모델 로드\n",
    "model = YOLO('D:\\\\project\\\\prjvenv\\\\runs\\\\detect\\\\human_fall_s30\\\\weights\\\\best.pt')  \n",
    "\n",
    "# 검증 데이터셋에 대해 모델 평가\n",
    "results = model.val(data='D:\\\\project\\\\prjvenv\\\\yaml_info_yolov8s.yaml', \n",
    "                    imgsz=640,\n",
    "                    batch=32,\n",
    "                    device=device)\n",
    "\n",
    "# 평가 종료 시간 기록 및 실행 시간 계산\n",
    "end_time = time.time()\n",
    "execution_time = end_time - start_time\n",
    "\n",
    "# 결과 출력\n",
    "print(f\"Validation Results:\")\n",
    "print(f\"mAP50: {results.box.map50:.4f}\")\n",
    "print(f\"mAP50-95: {results.box.map:.4f}\")\n",
    "print(f\"실행 시간: {execution_time:.4f} 초\")"
   ]
  }
 ],
 "metadata": {
  "kernelspec": {
   "display_name": "Python 3",
   "language": "python",
   "name": "python3"
  },
  "language_info": {
   "codemirror_mode": {
    "name": "ipython",
    "version": 3
   },
   "file_extension": ".py",
   "mimetype": "text/x-python",
   "name": "python",
   "nbconvert_exporter": "python",
   "pygments_lexer": "ipython3",
   "version": "3.10.6"
  }
 },
 "nbformat": 4,
 "nbformat_minor": 2
}
