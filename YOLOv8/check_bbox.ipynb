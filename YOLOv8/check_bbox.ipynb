{
 "cells": [
  {
   "cell_type": "code",
   "execution_count": 1,
   "metadata": {},
   "outputs": [],
   "source": [
    "import cv2\n",
    "import numpy as np\n",
    "import os\n",
    "import random\n",
    "\n",
    "def visualize_sample(image_path, label_path, class_names):\n",
    "    img = cv2.imread(image_path)\n",
    "    height, width, _ = img.shape\n",
    "\n",
    "    with open(label_path, 'r') as f:\n",
    "        lines = f.readlines()\n",
    "\n",
    "    for line in lines:\n",
    "        data = line.strip().split()\n",
    "        class_id, x_center, y_center, box_width, box_height = map(float, data)\n",
    "        \n",
    "        # YOLO 포맷을 픽셀 좌표로 변환\n",
    "        x1 = int((x_center - box_width / 2) * width)\n",
    "        y1 = int((y_center - box_height / 2) * height)\n",
    "        x2 = int((x_center + box_width / 2) * width)\n",
    "        y2 = int((y_center + box_height / 2) * height)\n",
    "\n",
    "        # 바운딩 박스가 너무 작을 경우 크기를 확대\n",
    "        if x2 - x1 < 5 or y2 - y1 < 5:\n",
    "            x1 = max(0, x1 - 5)\n",
    "            y1 = max(0, y1 - 5)\n",
    "            x2 = min(width, x2 + 5)\n",
    "            y2 = min(height, y2 + 5)\n",
    "\n",
    "        label = f\"{class_names[int(class_id)]} ({x_center:.4f}, {y_center:.4f}, {box_width:.4f}, {box_height:.4f})\"\n",
    "        cv2.rectangle(img, (x1, y1), (x2, y2), (0, 255, 0), 2)\n",
    "        cv2.putText(img, label, (x1, y1 - 10), cv2.FONT_HERSHEY_SIMPLEX, 0.5, (0, 255, 0), 2)\n",
    "\n",
    "    cv2.imshow('Image with Bounding Boxes', img)\n",
    "    cv2.waitKey(0)\n",
    "    cv2.destroyAllWindows()\n",
    "\n",
    "\n",
    "class_names = ['person', 'fall']  \n",
    "image_path = 'D:\\\\human_fall\\\\dataset\\\\train\\\\images\\\\00002_H_A_N_C1_I001.jpg'\n",
    "label_path = 'D:\\\\human_fall\\\\dataset\\\\train\\\\labels\\\\00002_H_A_N_C1_I001.txt'\n",
    "\n",
    "visualize_sample(image_path, label_path, class_names)"
   ]
  }
 ],
 "metadata": {
  "kernelspec": {
   "display_name": "Python 3",
   "language": "python",
   "name": "python3"
  },
  "language_info": {
   "codemirror_mode": {
    "name": "ipython",
    "version": 3
   },
   "file_extension": ".py",
   "mimetype": "text/x-python",
   "name": "python",
   "nbconvert_exporter": "python",
   "pygments_lexer": "ipython3",
   "version": "3.10.6"
  }
 },
 "nbformat": 4,
 "nbformat_minor": 2
}
