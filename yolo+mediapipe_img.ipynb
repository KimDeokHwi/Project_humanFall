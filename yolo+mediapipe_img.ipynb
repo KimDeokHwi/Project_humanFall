{
 "cells": [
  {
   "cell_type": "code",
   "execution_count": 3,
   "metadata": {},
   "outputs": [
    {
     "ename": "ModuleNotFoundError",
     "evalue": "No module named 'mediapipe'",
     "output_type": "error",
     "traceback": [
      "\u001b[1;31m---------------------------------------------------------------------------\u001b[0m",
      "\u001b[1;31mModuleNotFoundError\u001b[0m                       Traceback (most recent call last)",
      "Cell \u001b[1;32mIn[3], line 2\u001b[0m\n\u001b[0;32m      1\u001b[0m \u001b[38;5;28;01mimport\u001b[39;00m \u001b[38;5;21;01mcv2\u001b[39;00m\n\u001b[1;32m----> 2\u001b[0m \u001b[38;5;28;01mimport\u001b[39;00m \u001b[38;5;21;01mmediapipe\u001b[39;00m \u001b[38;5;28;01mas\u001b[39;00m \u001b[38;5;21;01mmp\u001b[39;00m\n\u001b[0;32m      3\u001b[0m \u001b[38;5;28;01mfrom\u001b[39;00m \u001b[38;5;21;01multralytics\u001b[39;00m \u001b[38;5;28;01mimport\u001b[39;00m YOLO\n\u001b[0;32m      5\u001b[0m \u001b[38;5;66;03m# YOLO 모델 로드\u001b[39;00m\n",
      "\u001b[1;31mModuleNotFoundError\u001b[0m: No module named 'mediapipe'"
     ]
    }
   ],
   "source": [
    "import cv2\n",
    "import mediapipe as mp\n",
    "from ultralytics import YOLO\n",
    "\n",
    "# YOLO 모델 로드\n",
    "yolo_model = YOLO('D:\\\\project\\\\prjvenv\\\\runs\\\\detect\\\\human_fall_s30\\\\weights\\\\best.pt')\n",
    "\n",
    "# MediaPipe 설정\n",
    "mp_pose = mp.solutions.pose\n",
    "pose = mp_pose.Pose(static_image_mode=False, min_detection_confidence=0.5)\n",
    "mp_drawing = mp.solutions.drawing_utils\n",
    "\n",
    "# 이미지 로드 (또는 비디오/웹캠 프레임 사용)\n",
    "image = cv2.imread('D:\\\\human_fall\\\\train_origin\\\\Y\\\\00004_H_A_SY_C1_I010.jpg')\n",
    "\n",
    "# YOLO로 사람 감지\n",
    "results = yolo_model(image)\n",
    "\n",
    "for r in results:\n",
    "    boxes = r.boxes\n",
    "    for box in boxes:\n",
    "        # 사람 클래스인 경우에만 처리 (YOLO 클래스 인덱스에 따라 조정 필요)\n",
    "        if int(box.cls) == 0:  # 0은 보통 'person' 클래스\n",
    "            x1, y1, x2, y2 = box.xyxy[0]\n",
    "            x1, y1, x2, y2 = int(x1), int(y1), int(x2), int(y2)\n",
    "            \n",
    "            # 바운딩 박스 추출\n",
    "            person_image = image[y1:y2, x1:x2]\n",
    "            \n",
    "            # MediaPipe로 포즈 추정\n",
    "            results_pose = pose.process(cv2.cvtColor(person_image, cv2.COLOR_BGR2RGB))\n",
    "            \n",
    "            if results_pose.pose_landmarks:\n",
    "                # 원본 이미지에 포즈 그리기\n",
    "                mp_drawing.draw_landmarks(\n",
    "                    image[y1:y2, x1:x2],\n",
    "                    results_pose.pose_landmarks,\n",
    "                    mp_pose.POSE_CONNECTIONS\n",
    "                )\n",
    "            \n",
    "            # 바운딩 박스 그리기\n",
    "            cv2.rectangle(image, (x1, y1), (x2, y2), (0, 255, 0), 2)\n",
    "\n",
    "# 결과 표시\n",
    "cv2.imshow(\"YOLO + MediaPipe\", image)\n",
    "cv2.waitKey(0)\n",
    "cv2.destroyAllWindows()"
   ]
  }
 ],
 "metadata": {
  "kernelspec": {
   "display_name": "Python 3",
   "language": "python",
   "name": "python3"
  },
  "language_info": {
   "codemirror_mode": {
    "name": "ipython",
    "version": 3
   },
   "file_extension": ".py",
   "mimetype": "text/x-python",
   "name": "python",
   "nbconvert_exporter": "python",
   "pygments_lexer": "ipython3",
   "version": "3.10.6"
  }
 },
 "nbformat": 4,
 "nbformat_minor": 2
}
