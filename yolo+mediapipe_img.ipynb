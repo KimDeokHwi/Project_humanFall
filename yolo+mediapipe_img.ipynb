{
 "cells": [
  {
   "cell_type": "code",
   "execution_count": 6,
   "metadata": {},
   "outputs": [
    {
     "name": "stdout",
     "output_type": "stream",
     "text": [
      "\n",
      "0: 384x640 1 Non_Fall, 3.5ms\n",
      "Speed: 2.0ms preprocess, 3.5ms inference, 1.0ms postprocess per image at shape (1, 3, 384, 640)\n"
     ]
    }
   ],
   "source": [
    "import cv2\n",
    "import mediapipe as mp\n",
    "from ultralytics import YOLO\n",
    "\n",
    "# YOLO 모델 로드\n",
    "yolo_model = YOLO('D:\\\\project\\\\prjvenv\\\\runs\\\\detect\\\\human_fall_s30\\\\weights\\\\best.pt')\n",
    "\n",
    "# MediaPipe 설정\n",
    "mp_pose = mp.solutions.pose\n",
    "pose = mp_pose.Pose(static_image_mode=False, min_detection_confidence=0.5)\n",
    "mp_drawing = mp.solutions.drawing_utils\n",
    "\n",
    "# 이미지 로드 (또는 비디오/웹캠 프레임 사용)\n",
    "image = cv2.imread('D:\\\\human_fall\\\\train_origin\\\\Y\\\\00004_H_A_SY_C1_I001.jpg')\n",
    "\n",
    "# YOLO로 사람 감지\n",
    "results = yolo_model(image)\n",
    "\n",
    "for r in results:\n",
    "    boxes = r.boxes\n",
    "    for box in boxes:\n",
    "        # 사람 클래스인 경우에만 처리 (YOLO 클래스 인덱스에 따라 조정 필요)\n",
    "        if int(box.cls) == 0:  # 0은 보통 'person' 클래스\n",
    "            x1, y1, x2, y2 = box.xyxy[0]\n",
    "            x1, y1, x2, y2 = int(x1), int(y1), int(x2), int(y2)\n",
    "            \n",
    "            # 바운딩 박스 추출\n",
    "            person_image = image[y1:y2, x1:x2]\n",
    "            \n",
    "            # MediaPipe로 포즈 추정\n",
    "            results_pose = pose.process(cv2.cvtColor(person_image, cv2.COLOR_BGR2RGB))\n",
    "            \n",
    "            if results_pose.pose_landmarks:\n",
    "                # 원본 이미지에 포즈 그리기\n",
    "                mp_drawing.draw_landmarks(\n",
    "                    image[y1:y2, x1:x2],\n",
    "                    results_pose.pose_landmarks,\n",
    "                    mp_pose.POSE_CONNECTIONS\n",
    "                )\n",
    "            \n",
    "            # 바운딩 박스 그리기\n",
    "            cv2.rectangle(image, (x1, y1), (x2, y2), (0, 255, 0), 2)\n",
    "\n",
    "# 결과 표시\n",
    "cv2.namedWindow(\"test\", cv2.WINDOW_NORMAL)\n",
    "cv2.resizeWindow(\"test\", 1920, 1080)\n",
    "cv2.imshow(\"test\", image)\n",
    "cv2.waitKey(0)\n",
    "cv2.destroyAllWindows()"
   ]
  },
  {
   "cell_type": "code",
   "execution_count": null,
   "metadata": {},
   "outputs": [],
   "source": []
  }
 ],
 "metadata": {
  "kernelspec": {
   "display_name": "Python 3",
   "language": "python",
   "name": "python3"
  },
  "language_info": {
   "codemirror_mode": {
    "name": "ipython",
    "version": 3
   },
   "file_extension": ".py",
   "mimetype": "text/x-python",
   "name": "python",
   "nbconvert_exporter": "python",
   "pygments_lexer": "ipython3",
   "version": "3.10.6"
  }
 },
 "nbformat": 4,
 "nbformat_minor": 2
}
