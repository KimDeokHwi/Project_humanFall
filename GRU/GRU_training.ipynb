version https://git-lfs.github.com/spec/v1
oid sha256:2687999248c9e32dac96d4fbdb3f17ec06e7fb0f93f2eea6f9b9a95387e4e2ef
size 1590437
