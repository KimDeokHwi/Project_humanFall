version https://git-lfs.github.com/spec/v1
oid sha256:e4f6499630e1416abd308ee7570a96c78853bbbe1926b4a91af21766c71b7f33
size 1376075
