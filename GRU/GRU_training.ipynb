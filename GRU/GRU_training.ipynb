version https://git-lfs.github.com/spec/v1
oid sha256:202008ba8996eeb552f13f094688328be7c6ac31a9f4f90abd72fd03bd936d11
size 1471326
