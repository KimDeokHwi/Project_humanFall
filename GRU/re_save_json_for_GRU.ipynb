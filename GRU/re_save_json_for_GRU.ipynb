{
 "cells": [
  {
   "cell_type": "code",
   "execution_count": 1,
   "metadata": {},
   "outputs": [],
   "source": [
    "import json\n",
    "import numpy as np"
   ]
  },
  {
   "cell_type": "code",
   "execution_count": null,
   "metadata": {},
   "outputs": [],
   "source": [
    "def calculate_movement(sequence): # 연속된 프레임간의 평균 변화량 계산   \n",
    "    diff = np.diff(sequence, axis=0)\n",
    "    return np.mean(np.abs(diff))\n",
    "\n",
    "def process_json_file(input_file, output_file, window_size=30, low_threshold=0.01, high_threshold=0.05):\n",
    "    with open(input_file, 'r') as f:\n",
    "        data = json.load(f)\n",
    "    \n",
    "    pose_data = data['pose_data']\n",
    "    fall_start_frame = data.get('fall_start_frame', -1)\n",
    "    fall_end_frame = data.get('fall_end_frame', -1)\n",
    "    \n",
    "    new_pose_data = {}\n",
    "    landmark_history = []\n",
    "    \n",
    "    for frame, landmarks in pose_data.items():\n",
    "        frame = int(frame)\n",
    "        frame_landmarks = []\n",
    "        for landmark in [0, 11, 12, 15, 16, 23, 24, 25, 26, 27, 28]:\n",
    "            frame_landmarks.extend([\n",
    "                landmarks[f'landmark_{landmark}']['x'],\n",
    "                landmarks[f'landmark_{landmark}']['y']\n",
    "            ])\n",
    "        \n",
    "        landmark_history.append(frame_landmarks)\n",
    "        \n",
    "        if len(landmark_history) > window_size:\n",
    "            landmark_history.pop(0)\n",
    "        \n",
    "        if len(landmark_history) == window_size:\n",
    "            movement = calculate_movement(np.array(landmark_history))\n",
    "            \n",
    "            # 클래스 분류\n",
    "            if fall_start_frame <= frame <= fall_end_frame:\n",
    "                class_label = \"Fall Risk\"\n",
    "            elif movement > high_threshold:\n",
    "                class_label = \"Complete Fall\"\n",
    "            elif movement > low_threshold:\n",
    "                class_label = \"Fall Risk\"\n",
    "            else:\n",
    "                class_label = \"Non-Fall\"\n",
    "        else:\n",
    "            movement = 0\n",
    "            class_label = \"Non-Fall\"  # 초기 프레임들\n",
    "        \n",
    "        new_pose_data[frame] = {\n",
    "            \"landmarks\": landmarks,\n",
    "            \"class\": class_label,\n",
    "            \"movement\": float(movement)\n",
    "        }\n",
    "    \n",
    "    # 새로운 JSON 파일 생성\n",
    "    new_data = {\n",
    "        \"pose_data\": new_pose_data,\n",
    "        \"fall_start_frame\": fall_start_frame,\n",
    "        \"fall_end_frame\": fall_end_frame\n",
    "    }\n",
    "    \n",
    "    with open(output_file, 'w') as f:\n",
    "        json.dump(new_data, f, indent=4)\n",
    "\n",
    "# 사용 예시\n",
    "input_file = 'path/to/input.json'\n",
    "output_file = 'path/to/output.json'\n",
    "process_json_file(input_file, output_file)"
   ]
  }
 ],
 "metadata": {
  "kernelspec": {
   "display_name": "prjvenv",
   "language": "python",
   "name": "python3"
  },
  "language_info": {
   "codemirror_mode": {
    "name": "ipython",
    "version": 3
   },
   "file_extension": ".py",
   "mimetype": "text/x-python",
   "name": "python",
   "nbconvert_exporter": "python",
   "pygments_lexer": "ipython3",
   "version": "3.10.6"
  }
 },
 "nbformat": 4,
 "nbformat_minor": 2
}
